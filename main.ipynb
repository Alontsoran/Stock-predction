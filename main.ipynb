import datetime
import numpy as np
import pandas as pd
import yfinance as yf
from sklearn.preprocessing import MinMaxScaler
from sklearn.metrics import mean_squared_error
from tensorflow.keras.models import Sequential, load_model
from tensorflow.keras.layers import Dense, LSTM
import plotly.graph_objects as go
import os
import joblib

def create_dataset(data, time_step):
    X, y = [], []
    for i in range(len(data) - time_step):
        X.append(data[i:(i + time_step)])
        y.append(data[i + time_step])
    return np.array(X), np.array(y)

def save_model_and_scaler(model, scaler, symbol, directory='der to your model'):
    if not os.path.exists(directory):
        os.makedirs(directory)
    model_path = os.path.join(directory, f'{symbol}_lstm_model.h5')
    scaler_path = os.path.join(directory, f'{symbol}_scaler.pkl')
    model.save(model_path)
    joblib.dump(scaler, scaler_path)
    print(f'Model saved to {model_path}')
    print(f'Scaler saved to {scaler_path}')

# User inputs
stock_symbol = input('Please enter a stock symbol: ')
start_date = (datetime.datetime.now() - datetime.timedelta(days=650)).strftime('%Y-%m-%d')
end_date = datetime.datetime.now()

# Load and preprocess data
df = yf.download(stock_symbol, start=start_date, end=end_date.strftime('%Y-%m-%d'), interval='1h')
df['Hourly Change'] = df['Close'].pct_change() * 100

# Scaling data
scaler = MinMaxScaler(feature_range=(0, 1))
scaled_data = scaler.fit_transform(df['Close'].values.reshape(-1, 1))

# Preparing training and testing data
time_step = 1
train_size = int(len(scaled_data) * 0.8)
train_data, test_data = scaled_data[:train_size], scaled_data[train_size - time_step:]
X_train, y_train = create_dataset(train_data, time_step)
X_test, y_test = create_dataset(test_data, time_step)
X_train = X_train.reshape(X_train.shape[0], X_train.shape[1], 1)
X_test = X_test.reshape(X_test.shape[0], X_test.shape[1], 1)

# Building and training the LSTM model
model = Sequential([
    LSTM(50, return_sequences=True, input_shape=(time_step, 1)),
    LSTM(50),
    Dense(20),
    Dense(4)
])
model.compile(optimizer='adam', loss='mean_squared_error')
model.fit(X_train, y_train, epochs=100, batch_size=120, verbose=1)

# Save model and scaler
save_model_and_scaler(model, scaler, stock_symbol)

# Predicting and evaluating
predictions = model.predict(X_test)
predictions = scaler.inverse_transform(predictions)
rmse = np.sqrt(mean_squared_error(y_test[:len(predictions)], predictions.flatten()))
print(f"Root Mean Squared Error: {rmse}")

# Future predictions
future_days = 2
last_data = scaled_data[-time_step:]
current_batch = last_data.reshape((1, time_step, 1))
future_predictions = []
for i in range(future_days * 24):
    future_pred = model.predict(current_batch)[0]
    future_predictions.append(future_pred)
    current_batch = np.append(current_batch[:, 1:, :], [[future_pred]], axis=1)
future_predictions = scaler.inverse_transform(np.array(future_predictions).reshape(-1, 1))
prediction_dates = pd.date_range(start=df.index[-1] + pd.Timedelta(hours=1), periods=future_days * 24, freq='H')

# Plotting results
fig = go.Figure()
fig.add_trace(go.Scatter(x=df.index, y=df['Close'], mode='lines', name='Historical Data'))
fig.add_trace(go.Scatter(x=df.index[train_size:train_size + len(predictions)], y=predictions.flatten(), mode='lines', name='Model Prediction'))
fig.add_trace(go.Scatter(x=prediction_dates, y=future_predictions.flatten(), mode='lines', name='Future Prediction', line=dict(color='red')))
fig.update_layout(title=f'{stock_symbol} Hourly Prediction using LSTM', xaxis_title='Date', yaxis_title='Stock Price')
fig.show()
